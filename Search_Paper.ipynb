{
 "cells": [
  {
   "cell_type": "code",
   "execution_count": 1,
   "metadata": {
    "collapsed": true
   },
   "outputs": [],
   "source": [
    "import selenium"
   ]
  },
  {
   "cell_type": "code",
   "execution_count": 2,
   "metadata": {
    "collapsed": true
   },
   "outputs": [],
   "source": [
    "search_web_url = 'http://etds.lib.ncku.edu.tw/etdservice/searchform'"
   ]
  },
  {
   "cell_type": "code",
   "execution_count": 166,
   "metadata": {
    "collapsed": true
   },
   "outputs": [],
   "source": [
    "from selenium import webdriver\n",
    "from selenium.webdriver.support.ui import Select\n",
    "from bs4 import BeautifulSoup\n",
    "def searchPaperData(student_name):\n",
    "    #selectnium part\n",
    "    driver = webdriver.Chrome('/Users/syushengwei/Desktop/chromedriver') \n",
    "    driver.get(\"http://etds.lib.ncku.edu.tw/etdservice/searchform\")\n",
    "    driver.find_element_by_name(\"query_word1\").send_keys(student_name)\n",
    "    Select(driver.find_element_by_name(\"query_field1\")).select_by_visible_text(u\"研究生\")\n",
    "    driver.find_element_by_name(\"Submit\").click()\n",
    "    html = driver.page_source \n",
    "    driver.close()\n",
    "    \n",
    "    #bf4 part\n",
    "    soup = BeautifulSoup(html, 'html.parser')\n",
    "    if '查無相關資料' in soup.text:\n",
    "        return ['0\\t'+student_name+'\\t'+'']\n",
    "    else:\n",
    "        Paper_List = []\n",
    "        if_find = 0\n",
    "        for form in soup.find_all('form',{\"name\":\"list_form\"}):\n",
    "            for tr in form.find_all('tr'):\n",
    "                if 'EMBA' in tr.text:\n",
    "                    if_find = 1\n",
    "                    Get_Paper_Data = []  \n",
    "                    for td in tr.find_all('td'):\n",
    "                        if td.text == '':\n",
    "                            continue\n",
    "                        if '\\n       成功大學/管理學院/高階管理碩士在職專班(EMBA)' in td.text:\n",
    "                            paper_name = td.text.split('\\n       成功大學/管理學院/高階管理碩士在職專班(EMBA)')\n",
    "                            Get_Paper_Data.append(paper_name[0].replace('\\n','').replace(' ',''))\n",
    "                            Get_Paper_Data.append('成功大學/管理學院/高階管理碩士在職專班(EMBA)')\n",
    "                            Get_Paper_Data.append(paper_name[1])\n",
    "                        else:\n",
    "                            Get_Paper_Data.append(td.text)\n",
    "                    Paper_List.append('\\t'.join(Get_Paper_Data))\n",
    "        if if_find == 1 :\n",
    "            return Paper_List\n",
    "        else:\n",
    "            return ['0\\t'+student_name+'\\t'+'']"
   ]
  },
  {
   "cell_type": "code",
   "execution_count": null,
   "metadata": {
    "collapsed": true
   },
   "outputs": [],
   "source": []
  },
  {
   "cell_type": "code",
   "execution_count": null,
   "metadata": {
    "collapsed": true
   },
   "outputs": [],
   "source": []
  },
  {
   "cell_type": "code",
   "execution_count": null,
   "metadata": {
    "collapsed": true
   },
   "outputs": [],
   "source": []
  },
  {
   "cell_type": "code",
   "execution_count": null,
   "metadata": {
    "collapsed": true
   },
   "outputs": [],
   "source": []
  },
  {
   "cell_type": "code",
   "execution_count": 111,
   "metadata": {
    "collapsed": true
   },
   "outputs": [],
   "source": [
    "import codecs \n",
    "Student_Dic = {}\n",
    "Same_Name_List = []\n",
    "Same_Name_Info = []\n",
    "with codecs.open('EMBA學號.csv','r',encoding= 'utf8')as infile:\n",
    "    Data_Line = infile.readlines()"
   ]
  },
  {
   "cell_type": "code",
   "execution_count": 112,
   "metadata": {
    "collapsed": true
   },
   "outputs": [],
   "source": [
    "    for line in Data_Line:\n",
    "        #print(line.split('\\t'))\n",
    "        data = line.replace('\\r\\n','').split('\\t')\n",
    "        if Student_Dic.get(data[1],None) == None:\n",
    "            Student_Dic.update({data[1]:data[0]})\n",
    "        else:\n",
    "            Same_Name_List.append(data[1])\n",
    "            Same_Name_Info.append([data[0],data[1]])\n",
    "            if [Student_Dic.get(data[1]), data[1]] not in Same_Name_Info:\n",
    "                Same_Name_Info.append([Student_Dic.get(data[1]), data[1]])"
   ]
  },
  {
   "cell_type": "code",
   "execution_count": 118,
   "metadata": {
    "collapsed": true
   },
   "outputs": [],
   "source": [
    "EMBA_Papers = []\n",
    "for student in Student_Dic:\n",
    "    try:\n",
    "        for paper in searchPaperData(student):\n",
    "            if student in Same_Name_List:\n",
    "                EMBA_Papers.append(''+'\\t'+paper)\n",
    "            else:\n",
    "                EMBA_Papers.append(Student_Dic[student]+'\\t'+paper)\n",
    "    except Exception as e:\n",
    "        print(student,e)"
   ]
  },
  {
   "cell_type": "code",
   "execution_count": 225,
   "metadata": {
    "collapsed": true
   },
   "outputs": [],
   "source": [
    "#print(Same_Name_List)"
   ]
  },
  {
   "cell_type": "code",
   "execution_count": 120,
   "metadata": {},
   "outputs": [
    {
     "name": "stdout",
     "output_type": "stream",
     "text": [
      "1424\n"
     ]
    }
   ],
   "source": [
    "print(len(EMBA_Papers))"
   ]
  },
  {
   "cell_type": "code",
   "execution_count": 117,
   "metadata": {},
   "outputs": [
    {
     "data": {
      "text/plain": [
       "1492"
      ]
     },
     "execution_count": 117,
     "metadata": {},
     "output_type": "execute_result"
    }
   ],
   "source": [
    "len(Student_Dic)"
   ]
  },
  {
   "cell_type": "code",
   "execution_count": 224,
   "metadata": {
    "collapsed": true
   },
   "outputs": [],
   "source": [
    "#with codecs.open('EMBA論文','w',encoding='utf8') as outfile:\n",
    "#    for line in EMBA_Papers:\n",
    "#        outfile.write(line+'\\n')"
   ]
  },
  {
   "cell_type": "code",
   "execution_count": 223,
   "metadata": {
    "collapsed": true
   },
   "outputs": [],
   "source": [
    "#with codecs.open('EMBA論文','r',encoding='utf8') as infile:\n",
    "     #EMBA_Papers = infile.readlines()"
   ]
  },
  {
   "cell_type": "code",
   "execution_count": null,
   "metadata": {},
   "outputs": [],
   "source": []
  },
  {
   "cell_type": "code",
   "execution_count": null,
   "metadata": {
    "collapsed": true
   },
   "outputs": [],
   "source": []
  }
 ],
 "metadata": {
  "kernelspec": {
   "display_name": "Python 3",
   "language": "python",
   "name": "python3"
  },
  "language_info": {
   "codemirror_mode": {
    "name": "ipython",
    "version": 3
   },
   "file_extension": ".py",
   "mimetype": "text/x-python",
   "name": "python",
   "nbconvert_exporter": "python",
   "pygments_lexer": "ipython3",
   "version": "3.6.1"
  }
 },
 "nbformat": 4,
 "nbformat_minor": 2
}
